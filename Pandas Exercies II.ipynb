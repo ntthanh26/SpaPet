{
 "cells": [
  {
   "cell_type": "markdown",
   "metadata": {
    "id": "78BX_cNsDAit"
   },
   "source": [
    "# 0. Prepare"
   ]
  },
  {
   "cell_type": "code",
   "execution_count": 1,
   "metadata": {
    "executionInfo": {
     "elapsed": 610,
     "status": "ok",
     "timestamp": 1653460528874,
     "user": {
      "displayName": "Quý Đoàn",
      "userId": "13864196111410100937"
     },
     "user_tz": -420
    },
    "id": "nVF0uT6q_Ayd"
   },
   "outputs": [],
   "source": [
    "import pandas as pd\n",
    "import numpy as np\n",
    "import matplotlib.pyplot as plt\n",
    "import seaborn as sns\n",
    "%matplotlib inline"
   ]
  },
  {
   "cell_type": "markdown",
   "metadata": {
    "id": "q9W1VtMhdLVC"
   },
   "source": [
    "Data was stored here https://drive.google.com/file/d/1BKplKmmwrA3N1K3i3q613W6Iyc9eUbrn/view?usp=sharing"
   ]
  },
  {
   "cell_type": "markdown",
   "metadata": {
    "id": "EagWXvtV-8Ce"
   },
   "source": [
    "# 1. Read data"
   ]
  },
  {
   "cell_type": "markdown",
   "metadata": {
    "id": "oD-RcXqADo2l"
   },
   "source": [
    "| column  | description   | \n",
    "|---|---|\n",
    "|Survival   |0 = No, 1 = Yes   | \n",
    "|Pclass| \tTicket class \t1 = 1st, 2 = 2nd, 3 = 3rd|\n",
    "|sSex| \tSex \t|\n",
    "|Age| \tAge in years | \t\n",
    "|Sibsp| \t# of siblings / spouses aboard the Titanic | \t\n",
    "|Parch| \t# of parents / children aboard the Titanic |\t\n",
    "|Ticket| \tTicket number| \t\n",
    "|Fare| \tPassenger fare |\t\n",
    "|Cabin| \tCabin number |\t\n",
    "|Embarked| \tPort of Embarkation \tC = Cherbourg, Q = Queenstown, S = Southampton|"
   ]
  },
  {
   "cell_type": "code",
   "execution_count": 2,
   "metadata": {
    "colab": {
     "base_uri": "https://localhost:8080/",
     "height": 206
    },
    "executionInfo": {
     "elapsed": 10,
     "status": "ok",
     "timestamp": 1653460576194,
     "user": {
      "displayName": "Quý Đoàn",
      "userId": "13864196111410100937"
     },
     "user_tz": -420
    },
    "id": "m9gp17kYBQBc",
    "outputId": "5f56321e-be73-4477-e90f-7c0605ed3eff",
    "scrolled": true
   },
   "outputs": [
    {
     "data": {
      "text/html": [
       "<div>\n",
       "<style scoped>\n",
       "    .dataframe tbody tr th:only-of-type {\n",
       "        vertical-align: middle;\n",
       "    }\n",
       "\n",
       "    .dataframe tbody tr th {\n",
       "        vertical-align: top;\n",
       "    }\n",
       "\n",
       "    .dataframe thead th {\n",
       "        text-align: right;\n",
       "    }\n",
       "</style>\n",
       "<table border=\"1\" class=\"dataframe\">\n",
       "  <thead>\n",
       "    <tr style=\"text-align: right;\">\n",
       "      <th></th>\n",
       "      <th>PassengerId</th>\n",
       "      <th>Survived</th>\n",
       "      <th>Pclass</th>\n",
       "      <th>Name</th>\n",
       "      <th>Sex</th>\n",
       "      <th>Age</th>\n",
       "      <th>SibSp</th>\n",
       "      <th>Parch</th>\n",
       "      <th>Ticket</th>\n",
       "      <th>Fare</th>\n",
       "      <th>Cabin</th>\n",
       "      <th>Embarked</th>\n",
       "    </tr>\n",
       "  </thead>\n",
       "  <tbody>\n",
       "    <tr>\n",
       "      <th>0</th>\n",
       "      <td>1</td>\n",
       "      <td>0</td>\n",
       "      <td>3</td>\n",
       "      <td>Braund, Mr. Owen Harris</td>\n",
       "      <td>male</td>\n",
       "      <td>22.0</td>\n",
       "      <td>1</td>\n",
       "      <td>0</td>\n",
       "      <td>A/5 21171</td>\n",
       "      <td>7.2500</td>\n",
       "      <td>NaN</td>\n",
       "      <td>S</td>\n",
       "    </tr>\n",
       "    <tr>\n",
       "      <th>1</th>\n",
       "      <td>2</td>\n",
       "      <td>1</td>\n",
       "      <td>1</td>\n",
       "      <td>Cumings, Mrs. John Bradley (Florence Briggs Th...</td>\n",
       "      <td>female</td>\n",
       "      <td>38.0</td>\n",
       "      <td>1</td>\n",
       "      <td>0</td>\n",
       "      <td>PC 17599</td>\n",
       "      <td>71.2833</td>\n",
       "      <td>C85</td>\n",
       "      <td>C</td>\n",
       "    </tr>\n",
       "    <tr>\n",
       "      <th>2</th>\n",
       "      <td>3</td>\n",
       "      <td>1</td>\n",
       "      <td>3</td>\n",
       "      <td>Heikkinen, Miss. Laina</td>\n",
       "      <td>female</td>\n",
       "      <td>26.0</td>\n",
       "      <td>0</td>\n",
       "      <td>0</td>\n",
       "      <td>STON/O2. 3101282</td>\n",
       "      <td>7.9250</td>\n",
       "      <td>NaN</td>\n",
       "      <td>S</td>\n",
       "    </tr>\n",
       "    <tr>\n",
       "      <th>3</th>\n",
       "      <td>4</td>\n",
       "      <td>1</td>\n",
       "      <td>1</td>\n",
       "      <td>Futrelle, Mrs. Jacques Heath (Lily May Peel)</td>\n",
       "      <td>female</td>\n",
       "      <td>35.0</td>\n",
       "      <td>1</td>\n",
       "      <td>0</td>\n",
       "      <td>113803</td>\n",
       "      <td>53.1000</td>\n",
       "      <td>C123</td>\n",
       "      <td>S</td>\n",
       "    </tr>\n",
       "    <tr>\n",
       "      <th>4</th>\n",
       "      <td>5</td>\n",
       "      <td>0</td>\n",
       "      <td>3</td>\n",
       "      <td>Allen, Mr. William Henry</td>\n",
       "      <td>male</td>\n",
       "      <td>35.0</td>\n",
       "      <td>0</td>\n",
       "      <td>0</td>\n",
       "      <td>373450</td>\n",
       "      <td>8.0500</td>\n",
       "      <td>NaN</td>\n",
       "      <td>S</td>\n",
       "    </tr>\n",
       "  </tbody>\n",
       "</table>\n",
       "</div>"
      ],
      "text/plain": [
       "   PassengerId  Survived  Pclass  \\\n",
       "0            1         0       3   \n",
       "1            2         1       1   \n",
       "2            3         1       3   \n",
       "3            4         1       1   \n",
       "4            5         0       3   \n",
       "\n",
       "                                                Name     Sex   Age  SibSp  \\\n",
       "0                            Braund, Mr. Owen Harris    male  22.0      1   \n",
       "1  Cumings, Mrs. John Bradley (Florence Briggs Th...  female  38.0      1   \n",
       "2                             Heikkinen, Miss. Laina  female  26.0      0   \n",
       "3       Futrelle, Mrs. Jacques Heath (Lily May Peel)  female  35.0      1   \n",
       "4                           Allen, Mr. William Henry    male  35.0      0   \n",
       "\n",
       "   Parch            Ticket     Fare Cabin Embarked  \n",
       "0      0         A/5 21171   7.2500   NaN        S  \n",
       "1      0          PC 17599  71.2833   C85        C  \n",
       "2      0  STON/O2. 3101282   7.9250   NaN        S  \n",
       "3      0            113803  53.1000  C123        S  \n",
       "4      0            373450   8.0500   NaN        S  "
      ]
     },
     "execution_count": 2,
     "metadata": {},
     "output_type": "execute_result"
    }
   ],
   "source": [
    "# Your path to file data may be different\n",
    "train = pd.read_csv(\"train.csv\")\n",
    "train.head()"
   ]
  },
  {
   "cell_type": "code",
   "execution_count": 3,
   "metadata": {},
   "outputs": [
    {
     "name": "stdout",
     "output_type": "stream",
     "text": [
      "<class 'pandas.core.frame.DataFrame'>\n",
      "RangeIndex: 891 entries, 0 to 890\n",
      "Data columns (total 12 columns):\n",
      " #   Column       Non-Null Count  Dtype  \n",
      "---  ------       --------------  -----  \n",
      " 0   PassengerId  891 non-null    int64  \n",
      " 1   Survived     891 non-null    int64  \n",
      " 2   Pclass       891 non-null    int64  \n",
      " 3   Name         891 non-null    object \n",
      " 4   Sex          891 non-null    object \n",
      " 5   Age          714 non-null    float64\n",
      " 6   SibSp        891 non-null    int64  \n",
      " 7   Parch        891 non-null    int64  \n",
      " 8   Ticket       891 non-null    object \n",
      " 9   Fare         891 non-null    float64\n",
      " 10  Cabin        204 non-null    object \n",
      " 11  Embarked     889 non-null    object \n",
      "dtypes: float64(2), int64(5), object(5)\n",
      "memory usage: 83.7+ KB\n"
     ]
    }
   ],
   "source": [
    "train.info()"
   ]
  },
  {
   "cell_type": "markdown",
   "metadata": {
    "id": "czMBcfJpXxVb"
   },
   "source": [
    "# 5. Grouping"
   ]
  },
  {
   "cell_type": "code",
   "execution_count": 4,
   "metadata": {
    "executionInfo": {
     "elapsed": 5,
     "status": "ok",
     "timestamp": 1653460131591,
     "user": {
      "displayName": "Quý Đoàn",
      "userId": "13864196111410100937"
     },
     "user_tz": -420
    },
    "id": "m5_1QRNLZDub"
   },
   "outputs": [
    {
     "data": {
      "text/plain": [
       "Pclass\n",
       "1    84.154687\n",
       "2    20.662183\n",
       "3    13.675550\n",
       "Name: Fare, dtype: float64"
      ]
     },
     "execution_count": 4,
     "metadata": {},
     "output_type": "execute_result"
    }
   ],
   "source": [
    "# Trung bình phí (Fare) của hành khách phải trả theo từng loại vé (Pclass)?\n",
    "train.groupby(\"Pclass\")[\"Fare\"].mean()"
   ]
  },
  {
   "cell_type": "code",
   "execution_count": 5,
   "metadata": {
    "executionInfo": {
     "elapsed": 6,
     "status": "ok",
     "timestamp": 1653460131593,
     "user": {
      "displayName": "Quý Đoàn",
      "userId": "13864196111410100937"
     },
     "user_tz": -420
    },
    "id": "EGrKejtCZYQp"
   },
   "outputs": [
    {
     "data": {
      "text/plain": [
       "Embarked  Pclass\n",
       "C         1          85\n",
       "Q         1           2\n",
       "S         1         127\n",
       "Name: Pclass, dtype: int64"
      ]
     },
     "execution_count": 5,
     "metadata": {},
     "output_type": "execute_result"
    }
   ],
   "source": [
    "# Hành khách xuất bên (Embarked) ở đâu có tỷ lệ mua vé loại 1 nhiều nhất (Pclass)?\n",
    "train[train.Pclass ==1].groupby(\"Embarked\")[\"Pclass\"].value_counts()"
   ]
  },
  {
   "cell_type": "code",
   "execution_count": 6,
   "metadata": {
    "executionInfo": {
     "elapsed": 491,
     "status": "ok",
     "timestamp": 1653460142163,
     "user": {
      "displayName": "Quý Đoàn",
      "userId": "13864196111410100937"
     },
     "user_tz": -420
    },
    "id": "lVCw2uKp5z4Z"
   },
   "outputs": [
    {
     "data": {
      "text/html": [
       "<div>\n",
       "<style scoped>\n",
       "    .dataframe tbody tr th:only-of-type {\n",
       "        vertical-align: middle;\n",
       "    }\n",
       "\n",
       "    .dataframe tbody tr th {\n",
       "        vertical-align: top;\n",
       "    }\n",
       "\n",
       "    .dataframe thead th {\n",
       "        text-align: right;\n",
       "    }\n",
       "</style>\n",
       "<table border=\"1\" class=\"dataframe\">\n",
       "  <thead>\n",
       "    <tr style=\"text-align: right;\">\n",
       "      <th></th>\n",
       "      <th>Fare</th>\n",
       "    </tr>\n",
       "    <tr>\n",
       "      <th>Pclass</th>\n",
       "      <th></th>\n",
       "    </tr>\n",
       "  </thead>\n",
       "  <tbody>\n",
       "    <tr>\n",
       "      <th>1</th>\n",
       "      <td>18177.4125</td>\n",
       "    </tr>\n",
       "    <tr>\n",
       "      <th>2</th>\n",
       "      <td>3801.8417</td>\n",
       "    </tr>\n",
       "    <tr>\n",
       "      <th>3</th>\n",
       "      <td>6714.6951</td>\n",
       "    </tr>\n",
       "  </tbody>\n",
       "</table>\n",
       "</div>"
      ],
      "text/plain": [
       "              Fare\n",
       "Pclass            \n",
       "1       18177.4125\n",
       "2        3801.8417\n",
       "3        6714.6951"
      ]
     },
     "execution_count": 6,
     "metadata": {},
     "output_type": "execute_result"
    }
   ],
   "source": [
    "# Loại vé nào thu lợi nhiều nhất cho tàu Titanic?\n",
    "train.groupby(\"Pclass\").agg(Fare = (\"Fare\",\"sum\"))\n"
   ]
  },
  {
   "cell_type": "markdown",
   "metadata": {
    "id": "5-MA7mvi6YAZ"
   },
   "source": [
    "![image.png](data:image/png;base64,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)"
   ]
  },
  {
   "cell_type": "code",
   "execution_count": 7,
   "metadata": {
    "executionInfo": {
     "elapsed": 3,
     "status": "ok",
     "timestamp": 1653460187282,
     "user": {
      "displayName": "Quý Đoàn",
      "userId": "13864196111410100937"
     },
     "user_tz": -420
    },
    "id": "eFIqq9Fv53vH",
    "scrolled": false
   },
   "outputs": [],
   "source": [
    "# # Tỷ lệ sống sót của độ tuổi nào cao nhất? \n",
    "# # Độ tuổi chia theo bảng phía trên\n",
    "# # Chia tuổi thành 4 độ tuổi\n",
    "\n",
    "# train['AgeRange'] = ''\n",
    "# train.loc[train['Age'] <= 16, 'AgeRange'] = 'Child'\n",
    "# train.loc[(17<= train['Age'])&(train['Age'] < 30), 'AgeRange'] = 'Young Adult'\n",
    "# train.loc[(31<= train['Age'])&(train['Age'] < 45), 'AgeRange'] = 'Middle-aged Adult '\n",
    "# train.loc[(train['Age'] >= 45)] = 'Old-aged Adult'\n",
    "# train.head()"
   ]
  },
  {
   "cell_type": "code",
   "execution_count": 8,
   "metadata": {},
   "outputs": [],
   "source": [
    "def age_range(x):\n",
    "    if x in [0,16]:\n",
    "        return 'Child'\n",
    "    elif x in [17,30]:\n",
    "        return 'Young Adults'\n",
    "    elif x in [31,45]:\n",
    "        return 'Middle-aged Adults'\n",
    "    else:\n",
    "        return 'Old-aged Adults'"
   ]
  },
  {
   "cell_type": "code",
   "execution_count": 9,
   "metadata": {},
   "outputs": [
    {
     "data": {
      "text/plain": [
       "Age\n",
       "Child                 35.294118\n",
       "Middle-aged Adults    44.827586\n",
       "Old-aged Adults       38.042131\n",
       "Young Adults          42.105263\n",
       "Name: Survived, dtype: float64"
      ]
     },
     "execution_count": 9,
     "metadata": {},
     "output_type": "execute_result"
    }
   ],
   "source": [
    "# Tỷ lệ sống sót của độ tuổi nào cao nhất? \n",
    "# Độ tuổi chia theo bảng phía trên\n",
    "# Chia tuổi thành 4 độ tuổi\n",
    "\n",
    "train1 = train.copy()\n",
    "train1.Age = train1.Age.apply(age_range)\n",
    "train1\n",
    "\n",
    "a=train1.groupby('Age').sum().Survived\n",
    "\n",
    "b=train1.groupby('Age').count().Survived\n",
    "a*100/b"
   ]
  },
  {
   "cell_type": "code",
   "execution_count": 10,
   "metadata": {
    "scrolled": true
   },
   "outputs": [
    {
     "data": {
      "text/html": [
       "<div>\n",
       "<style scoped>\n",
       "    .dataframe tbody tr th:only-of-type {\n",
       "        vertical-align: middle;\n",
       "    }\n",
       "\n",
       "    .dataframe tbody tr th {\n",
       "        vertical-align: top;\n",
       "    }\n",
       "\n",
       "    .dataframe thead th {\n",
       "        text-align: right;\n",
       "    }\n",
       "</style>\n",
       "<table border=\"1\" class=\"dataframe\">\n",
       "  <thead>\n",
       "    <tr style=\"text-align: right;\">\n",
       "      <th></th>\n",
       "      <th>Age</th>\n",
       "      <th>Fare</th>\n",
       "      <th>Parch</th>\n",
       "      <th>SibSp</th>\n",
       "    </tr>\n",
       "    <tr>\n",
       "      <th>Survived</th>\n",
       "      <th></th>\n",
       "      <th></th>\n",
       "      <th></th>\n",
       "      <th></th>\n",
       "    </tr>\n",
       "  </thead>\n",
       "  <tbody>\n",
       "    <tr>\n",
       "      <th>0</th>\n",
       "      <td>30.626179</td>\n",
       "      <td>22.117887</td>\n",
       "      <td>0.329690</td>\n",
       "      <td>0.553734</td>\n",
       "    </tr>\n",
       "    <tr>\n",
       "      <th>1</th>\n",
       "      <td>28.343690</td>\n",
       "      <td>48.395408</td>\n",
       "      <td>0.464912</td>\n",
       "      <td>0.473684</td>\n",
       "    </tr>\n",
       "  </tbody>\n",
       "</table>\n",
       "</div>"
      ],
      "text/plain": [
       "                Age       Fare     Parch     SibSp\n",
       "Survived                                          \n",
       "0         30.626179  22.117887  0.329690  0.553734\n",
       "1         28.343690  48.395408  0.464912  0.473684"
      ]
     },
     "execution_count": 10,
     "metadata": {},
     "output_type": "execute_result"
    }
   ],
   "source": [
    "# Tỷ lệ sóng sót của trẻ con đi cùng phụ huynh có cao hơn trẻ con không có phụ huynh?\n",
    "pd.pivot_table(train, index = 'Survived', values = ['Age','SibSp','Parch','Fare'])"
   ]
  },
  {
   "cell_type": "markdown",
   "metadata": {},
   "source": [
    " Tuổi trung bình của những người sống sót là 28, vì vậy những người trẻ tuổi có xu hướng sống sót nhiều hơn. \n",
    " Những người trả giá vé cao hơn có nhiều khả năng sống sót hơn, hơn gấp đôi. Đây có thể là những người đi trên khoang hạng nhất. Vì vậy, những người giàu sống sót, đó là một câu chuyện đáng buồn trong kịch bản này. \n",
    " Trong cột thứ 3, Nếu bạn có cha mẹ, bạn có cơ hội sống sót cao hơn.\n",
    "Nếu bạn là một đứa trẻ và có anh chị em, bạn sẽ có ít cơ hội sống sót hơn"
   ]
  },
  {
   "cell_type": "markdown",
   "metadata": {
    "id": "pJqomjxq67Xx"
   },
   "source": [
    "# 6 Missing imputing"
   ]
  },
  {
   "cell_type": "code",
   "execution_count": 11,
   "metadata": {
    "colab": {
     "base_uri": "https://localhost:8080/"
    },
    "executionInfo": {
     "elapsed": 8,
     "status": "ok",
     "timestamp": 1653460584821,
     "user": {
      "displayName": "Quý Đoàn",
      "userId": "13864196111410100937"
     },
     "user_tz": -420
    },
    "id": "JZjfQvDs6_op",
    "outputId": "f938c63b-35f5-4215-870a-1e2d72f4db72"
   },
   "outputs": [
    {
     "name": "stdout",
     "output_type": "stream",
     "text": [
      "<class 'pandas.core.frame.DataFrame'>\n",
      "RangeIndex: 891 entries, 0 to 890\n",
      "Data columns (total 12 columns):\n",
      " #   Column       Non-Null Count  Dtype  \n",
      "---  ------       --------------  -----  \n",
      " 0   PassengerId  891 non-null    int64  \n",
      " 1   Survived     891 non-null    int64  \n",
      " 2   Pclass       891 non-null    int64  \n",
      " 3   Name         891 non-null    object \n",
      " 4   Sex          891 non-null    object \n",
      " 5   Age          714 non-null    float64\n",
      " 6   SibSp        891 non-null    int64  \n",
      " 7   Parch        891 non-null    int64  \n",
      " 8   Ticket       891 non-null    object \n",
      " 9   Fare         891 non-null    float64\n",
      " 10  Cabin        204 non-null    object \n",
      " 11  Embarked     889 non-null    object \n",
      "dtypes: float64(2), int64(5), object(5)\n",
      "memory usage: 83.7+ KB\n"
     ]
    }
   ],
   "source": [
    "train.info()"
   ]
  },
  {
   "cell_type": "code",
   "execution_count": 12,
   "metadata": {
    "executionInfo": {
     "elapsed": 4,
     "status": "ok",
     "timestamp": 1653460600927,
     "user": {
      "displayName": "Quý Đoàn",
      "userId": "13864196111410100937"
     },
     "user_tz": -420
    },
    "id": "Z8ya4-lE7TM5"
   },
   "outputs": [
    {
     "name": "stdout",
     "output_type": "stream",
     "text": [
      "<class 'pandas.core.frame.DataFrame'>\n",
      "RangeIndex: 891 entries, 0 to 890\n",
      "Data columns (total 12 columns):\n",
      " #   Column       Non-Null Count  Dtype  \n",
      "---  ------       --------------  -----  \n",
      " 0   PassengerId  891 non-null    int64  \n",
      " 1   Survived     891 non-null    int64  \n",
      " 2   Pclass       891 non-null    int64  \n",
      " 3   Name         891 non-null    object \n",
      " 4   Sex          891 non-null    object \n",
      " 5   Age          714 non-null    float64\n",
      " 6   SibSp        891 non-null    int64  \n",
      " 7   Parch        891 non-null    int64  \n",
      " 8   Ticket       891 non-null    object \n",
      " 9   Fare         891 non-null    float64\n",
      " 10  Cabin        891 non-null    object \n",
      " 11  Embarked     889 non-null    object \n",
      "dtypes: float64(2), int64(5), object(5)\n",
      "memory usage: 83.7+ KB\n"
     ]
    }
   ],
   "source": [
    "# Điền các giá trị Cabin bị thiếu bằng giá trị 'NA'\n",
    "train.Cabin=train.Cabin.fillna('NA')\n",
    "train.info()"
   ]
  },
  {
   "cell_type": "code",
   "execution_count": 13,
   "metadata": {
    "executionInfo": {
     "elapsed": 4,
     "status": "ok",
     "timestamp": 1653460622515,
     "user": {
      "displayName": "Quý Đoàn",
      "userId": "13864196111410100937"
     },
     "user_tz": -420
    },
    "id": "S5nOry5j7oGy"
   },
   "outputs": [],
   "source": [
    "# Điền các giá trị Age bị thiếu bằng tuổi trung bình theo Sex\n",
    "train2 = train.copy()\n",
    "Smale = (train2.Sex == 'male')\n",
    "Sfemale = (train2.Sex == 'female')\n",
    "train2.loc[Smale, 'Age'] = train2.loc[Smale, 'Age'].fillna(train2.loc[Smale, 'Age'].mean())\n",
    "train2.loc[Sfemale, 'Age'] = train2.loc[Sfemale, 'Age'].fillna(train2.loc[Sfemale, 'Age'].mean())\n"
   ]
  },
  {
   "cell_type": "code",
   "execution_count": 14,
   "metadata": {},
   "outputs": [
    {
     "data": {
      "text/plain": [
       "Sex\n",
       "female    27.915709\n",
       "male      30.726645\n",
       "Name: Age, dtype: float64"
      ]
     },
     "execution_count": 14,
     "metadata": {},
     "output_type": "execute_result"
    }
   ],
   "source": [
    "train2.groupby('Sex').mean().Age"
   ]
  },
  {
   "cell_type": "code",
   "execution_count": 15,
   "metadata": {},
   "outputs": [
    {
     "name": "stdout",
     "output_type": "stream",
     "text": [
      "<class 'pandas.core.frame.DataFrame'>\n",
      "RangeIndex: 891 entries, 0 to 890\n",
      "Data columns (total 12 columns):\n",
      " #   Column       Non-Null Count  Dtype  \n",
      "---  ------       --------------  -----  \n",
      " 0   PassengerId  891 non-null    int64  \n",
      " 1   Survived     891 non-null    int64  \n",
      " 2   Pclass       891 non-null    int64  \n",
      " 3   Name         891 non-null    object \n",
      " 4   Sex          891 non-null    object \n",
      " 5   Age          891 non-null    float64\n",
      " 6   SibSp        891 non-null    int64  \n",
      " 7   Parch        891 non-null    int64  \n",
      " 8   Ticket       891 non-null    object \n",
      " 9   Fare         891 non-null    float64\n",
      " 10  Cabin        891 non-null    object \n",
      " 11  Embarked     889 non-null    object \n",
      "dtypes: float64(2), int64(5), object(5)\n",
      "memory usage: 83.7+ KB\n"
     ]
    }
   ],
   "source": [
    "train2.info()"
   ]
  },
  {
   "cell_type": "code",
   "execution_count": 16,
   "metadata": {
    "executionInfo": {
     "elapsed": 5,
     "status": "ok",
     "timestamp": 1653460634342,
     "user": {
      "displayName": "Quý Đoàn",
      "userId": "13864196111410100937"
     },
     "user_tz": -420
    },
    "id": "TEuO_rJg7rMk"
   },
   "outputs": [
    {
     "name": "stdout",
     "output_type": "stream",
     "text": [
      "<class 'pandas.core.frame.DataFrame'>\n",
      "RangeIndex: 891 entries, 0 to 890\n",
      "Data columns (total 12 columns):\n",
      " #   Column       Non-Null Count  Dtype  \n",
      "---  ------       --------------  -----  \n",
      " 0   PassengerId  891 non-null    int64  \n",
      " 1   Survived     891 non-null    int64  \n",
      " 2   Pclass       891 non-null    int64  \n",
      " 3   Name         891 non-null    object \n",
      " 4   Sex          891 non-null    object \n",
      " 5   Age          891 non-null    float64\n",
      " 6   SibSp        891 non-null    int64  \n",
      " 7   Parch        891 non-null    int64  \n",
      " 8   Ticket       891 non-null    object \n",
      " 9   Fare         891 non-null    float64\n",
      " 10  Cabin        891 non-null    object \n",
      " 11  Embarked     891 non-null    object \n",
      "dtypes: float64(2), int64(5), object(5)\n",
      "memory usage: 83.7+ KB\n"
     ]
    }
   ],
   "source": [
    "# Điền các giá trị Embarked bị thiếu bằng giá trị Embarked phổ biến nhất\n",
    "train2.Embarked = train2.Embarked.fillna(train2.Embarked.value_counts().idxmax())\n",
    "train2.info()"
   ]
  },
  {
   "cell_type": "markdown",
   "metadata": {
    "id": "BMc7y2TA7zI7"
   },
   "source": [
    "# 7. Your turn\n"
   ]
  },
  {
   "cell_type": "code",
   "execution_count": 17,
   "metadata": {
    "colab": {
     "base_uri": "https://localhost:8080/"
    },
    "executionInfo": {
     "elapsed": 721,
     "status": "ok",
     "timestamp": 1653460722192,
     "user": {
      "displayName": "Quý Đoàn",
      "userId": "13864196111410100937"
     },
     "user_tz": -420
    },
    "id": "E1FH1omj74PG",
    "outputId": "5d6f6c77-5c32-4d8a-e657-da63b732e26e"
   },
   "outputs": [
    {
     "name": "stdout",
     "output_type": "stream",
     "text": [
      "0.6161616161616161\n"
     ]
    }
   ],
   "source": [
    "def accuracy(df):\n",
    "    return (df['Survived'] == df['Predicted']).sum()/len(df)\n",
    "\n",
    "def predict(row):\n",
    "    return 0\n",
    "\n",
    "train['Predicted'] = train.apply(predict,axis=1)\n",
    "print(accuracy(train))"
   ]
  },
  {
   "cell_type": "code",
   "execution_count": 18,
   "metadata": {},
   "outputs": [
    {
     "data": {
      "image/png": "[encoded data removed]",
      "text/plain": [
       "<Figure size 432x288 with 1 Axes>"
      ]
     },
     "metadata": {},
     "output_type": "display_data"
    }
   ],
   "source": [
    "# %61.62% số người trên tàu Titanic đã không thể sống sót\n",
    "train.Survived.value_counts().plot(kind='pie', autopct='%.2f%%');"
   ]
  },
  {
   "cell_type": "code",
   "execution_count": 19,
   "metadata": {},
   "outputs": [
    {
     "data": {
      "text/plain": [
       "<AxesSubplot:>"
      ]
     },
     "execution_count": 19,
     "metadata": {},
     "output_type": "execute_result"
    },
    {
     "data": {
      "image/png": "[encoded data removed]",
      "text/plain": [
       "<Figure size 432x288 with 1 Axes>"
      ]
     },
     "metadata": {
      "needs_background": "light"
     },
     "output_type": "display_data"
    }
   ],
   "source": [
    "train.Survived.value_counts(normalize=True).plot(kind = \"bar\", alpha =.5)"
   ]
  },
  {
   "cell_type": "code",
   "execution_count": 20,
   "metadata": {
    "scrolled": true
   },
   "outputs": [
    {
     "name": "stdout",
     "output_type": "stream",
     "text": [
      "<class 'pandas.core.frame.DataFrame'>\n",
      "RangeIndex: 891 entries, 0 to 890\n",
      "Data columns (total 12 columns):\n",
      " #   Column       Non-Null Count  Dtype  \n",
      "---  ------       --------------  -----  \n",
      " 0   PassengerId  891 non-null    int64  \n",
      " 1   Survived     891 non-null    int64  \n",
      " 2   Pclass       891 non-null    int64  \n",
      " 3   Name         891 non-null    object \n",
      " 4   Sex          891 non-null    object \n",
      " 5   Age          891 non-null    float64\n",
      " 6   SibSp        891 non-null    int64  \n",
      " 7   Parch        891 non-null    int64  \n",
      " 8   Ticket       891 non-null    object \n",
      " 9   Fare         891 non-null    float64\n",
      " 10  Cabin        891 non-null    object \n",
      " 11  Embarked     891 non-null    object \n",
      "dtypes: float64(2), int64(5), object(5)\n",
      "memory usage: 83.7+ KB\n"
     ]
    }
   ],
   "source": [
    "train2.info()"
   ]
  },
  {
   "cell_type": "code",
   "execution_count": 21,
   "metadata": {},
   "outputs": [],
   "source": [
    "train2.loc[train2[\"Sex\"] ==\"male\", \"Sex\"] = 0\n",
    "train2.loc[train2[\"Sex\"] ==\"female\", \"Sex\"] = 1"
   ]
  },
  {
   "cell_type": "code",
   "execution_count": 22,
   "metadata": {},
   "outputs": [],
   "source": [
    "train2.loc[train2[\"Embarked\"] == \"S\", \"Embarked\"] = 0\n",
    "train2.loc[train2[\"Embarked\"] == \"C\", \"Embarked\"] = 1\n",
    "train2.loc[train2[\"Embarked\"] == \"Q\", \"Embarked\"] = 2"
   ]
  },
  {
   "cell_type": "markdown",
   "metadata": {},
   "source": [
    "# Selection Features"
   ]
  },
  {
   "cell_type": "code",
   "execution_count": 23,
   "metadata": {},
   "outputs": [],
   "source": [
    "#feature_name = ['Pclass','Age','Fare','Embarked','Sex','SibSp', 'Parch']\n",
    "feature = ['Pclass','Age','Fare','SibSp', 'Parch', 'Sex','Embarked' ]\n",
    "X = train2[feature].values\n",
    "y = train2[\"Survived\"]"
   ]
  },
  {
   "cell_type": "markdown",
   "metadata": {},
   "source": [
    "X, y ----> X_train, X_test, y_train, y_test"
   ]
  },
  {
   "cell_type": "code",
   "execution_count": 143,
   "metadata": {},
   "outputs": [],
   "source": [
    "from sklearn.model_selection import train_test_split\n",
    "X_train, X_test, y_train, y_test = train_test_split(X, y, test_size=0.3, random_state=42)"
   ]
  },
  {
   "cell_type": "markdown",
   "metadata": {},
   "source": [
    "# Training Modeling"
   ]
  },
  {
   "cell_type": "code",
   "execution_count": 152,
   "metadata": {},
   "outputs": [],
   "source": [
    "from sklearn.tree import DecisionTreeClassifier\n",
    "clf = DecisionTreeClassifier(random_state=42, max_depth = 4 )\n"
   ]
  },
  {
   "cell_type": "code",
   "execution_count": 158,
   "metadata": {},
   "outputs": [
    {
     "data": {
      "text/plain": [
       "DecisionTreeClassifier(max_depth=4, random_state=42)"
      ]
     },
     "execution_count": 158,
     "metadata": {},
     "output_type": "execute_result"
    }
   ],
   "source": [
    "#Fit data into model\n",
    "clf.fit(X_train, y_train)"
   ]
  },
  {
   "cell_type": "markdown",
   "metadata": {},
   "source": [
    "# Prediction"
   ]
  },
  {
   "cell_type": "code",
   "execution_count": 154,
   "metadata": {},
   "outputs": [],
   "source": [
    "y_preds = clf.predict(X_test)"
   ]
  },
  {
   "cell_type": "code",
   "execution_count": 155,
   "metadata": {
    "scrolled": true
   },
   "outputs": [
    {
     "data": {
      "text/html": [
       "<div>\n",
       "<style scoped>\n",
       "    .dataframe tbody tr th:only-of-type {\n",
       "        vertical-align: middle;\n",
       "    }\n",
       "\n",
       "    .dataframe tbody tr th {\n",
       "        vertical-align: top;\n",
       "    }\n",
       "\n",
       "    .dataframe thead th {\n",
       "        text-align: right;\n",
       "    }\n",
       "</style>\n",
       "<table border=\"1\" class=\"dataframe\">\n",
       "  <thead>\n",
       "    <tr style=\"text-align: right;\">\n",
       "      <th></th>\n",
       "      <th>y</th>\n",
       "      <th>y_preds</th>\n",
       "    </tr>\n",
       "  </thead>\n",
       "  <tbody>\n",
       "    <tr>\n",
       "      <th>709</th>\n",
       "      <td>1</td>\n",
       "      <td>0</td>\n",
       "    </tr>\n",
       "    <tr>\n",
       "      <th>439</th>\n",
       "      <td>0</td>\n",
       "      <td>0</td>\n",
       "    </tr>\n",
       "    <tr>\n",
       "      <th>840</th>\n",
       "      <td>0</td>\n",
       "      <td>0</td>\n",
       "    </tr>\n",
       "    <tr>\n",
       "      <th>720</th>\n",
       "      <td>1</td>\n",
       "      <td>1</td>\n",
       "    </tr>\n",
       "    <tr>\n",
       "      <th>39</th>\n",
       "      <td>1</td>\n",
       "      <td>1</td>\n",
       "    </tr>\n",
       "    <tr>\n",
       "      <th>290</th>\n",
       "      <td>1</td>\n",
       "      <td>1</td>\n",
       "    </tr>\n",
       "    <tr>\n",
       "      <th>300</th>\n",
       "      <td>1</td>\n",
       "      <td>1</td>\n",
       "    </tr>\n",
       "    <tr>\n",
       "      <th>333</th>\n",
       "      <td>0</td>\n",
       "      <td>0</td>\n",
       "    </tr>\n",
       "    <tr>\n",
       "      <th>208</th>\n",
       "      <td>1</td>\n",
       "      <td>1</td>\n",
       "    </tr>\n",
       "    <tr>\n",
       "      <th>136</th>\n",
       "      <td>1</td>\n",
       "      <td>1</td>\n",
       "    </tr>\n",
       "  </tbody>\n",
       "</table>\n",
       "</div>"
      ],
      "text/plain": [
       "     y  y_preds\n",
       "709  1        0\n",
       "439  0        0\n",
       "840  0        0\n",
       "720  1        1\n",
       "39   1        1\n",
       "290  1        1\n",
       "300  1        1\n",
       "333  0        0\n",
       "208  1        1\n",
       "136  1        1"
      ]
     },
     "execution_count": 155,
     "metadata": {},
     "output_type": "execute_result"
    }
   ],
   "source": [
    "pd.DataFrame({\"y\": y_test, \"y_preds\": y_preds}).head(10)"
   ]
  },
  {
   "cell_type": "code",
   "execution_count": 156,
   "metadata": {},
   "outputs": [
    {
     "name": "stdout",
     "output_type": "stream",
     "text": [
      "0.8208955223880597\n"
     ]
    }
   ],
   "source": [
    "score = clf.score(X_test, y_test)\n",
    "print(score)"
   ]
  },
  {
   "cell_type": "markdown",
   "metadata": {},
   "source": [
    "# Evaluation"
   ]
  },
  {
   "cell_type": "code",
   "execution_count": 157,
   "metadata": {},
   "outputs": [
    {
     "name": "stdout",
     "output_type": "stream",
     "text": [
      "DecisionTrees's Accuracy:  0.8208955223880597\n"
     ]
    }
   ],
   "source": [
    "from sklearn import metrics\n",
    "import matplotlib.pyplot as plt\n",
    "print(\"DecisionTrees's Accuracy: \", metrics.accuracy_score(y_test, y_preds))"
   ]
  },
  {
   "cell_type": "code",
   "execution_count": 150,
   "metadata": {},
   "outputs": [
    {
     "data": {
      "image/png": "[encoded data removed]",
      "text/plain": [
       "<Figure size 1152x864 with 1 Axes>"
      ]
     },
     "metadata": {
      "needs_background": "light"
     },
     "output_type": "display_data"
    }
   ],
   "source": [
    "from sklearn import tree\n",
    "plt.figure(figsize=(16,12))\n",
    "tree.plot_tree(clf)\n",
    "plt.show()"
   ]
  },
  {
   "cell_type": "code",
   "execution_count": null,
   "metadata": {},
   "outputs": [],
   "source": []
  },
  {
   "cell_type": "code",
   "execution_count": null,
   "metadata": {},
   "outputs": [],
   "source": []
  },
  {
   "cell_type": "code",
   "execution_count": null,
   "metadata": {},
   "outputs": [],
   "source": []
  }
 ],
 "metadata": {
  "colab": {
   "authorship_tag": "ABX9TyPvfX5RbsVM9BNpyVVZIVgk",
   "collapsed_sections": [
    "78BX_cNsDAit",
    "EagWXvtV-8Ce",
    "czMBcfJpXxVb",
    "pJqomjxq67Xx",
    "BMc7y2TA7zI7"
   ],
   "mount_file_id": "1oc5xBW1iFszI_jJ1o-3DgS4FXgyOsvmr",
   "name": "Pandas Exercies II.ipynb",
   "provenance": []
  },
  "kernelspec": {
   "display_name": "Python 3",
   "language": "python",
   "name": "python3"
  },
  "language_info": {
   "codemirror_mode": {
    "name": "ipython",
    "version": 3
   },
   "file_extension": ".py",
   "mimetype": "text/x-python",
   "name": "python",
   "nbconvert_exporter": "python",
   "pygments_lexer": "ipython3",
   "version": "3.8.8"
  },
  "nbTranslate": {
   "displayLangs": [
    "*"
   ],
   "hotkey": "alt-t",
   "langInMainMenu": true,
   "sourceLang": "en",
   "targetLang": "fr",
   "useGoogleTranslate": true
  },
  "toc": {
   "base_numbering": 1,
   "nav_menu": {},
   "number_sections": true,
   "sideBar": true,
   "skip_h1_title": false,
   "title_cell": "Table of Contents",
   "title_sidebar": "Contents",
   "toc_cell": false,
   "toc_position": {},
   "toc_section_display": true,
   "toc_window_display": true
  },
  "varInspector": {
   "cols": {
    "lenName": 16,
    "lenType": 16,
    "lenVar": 40
   },
   "kernels_config": {
    "python": {
     "delete_cmd_postfix": "",
     "delete_cmd_prefix": "del ",
     "library": "var_list.py",
     "varRefreshCmd": "print(var_dic_list())"
    },
    "r": {
     "delete_cmd_postfix": ") ",
     "delete_cmd_prefix": "rm(",
     "library": "var_list.r",
     "varRefreshCmd": "cat(var_dic_list()) "
    }
   },
   "types_to_exclude": [
    "module",
    "function",
    "builtin_function_or_method",
    "instance",
    "_Feature"
   ],
   "window_display": false
  }
 },
 "nbformat": 4,
 "nbformat_minor": 1
}
